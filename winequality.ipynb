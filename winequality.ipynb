{
 "cells": [
  {
   "cell_type": "code",
   "execution_count": 112,
   "metadata": {},
   "outputs": [],
   "source": [
    "import pandas as pd\n",
    "from matplotlib import pyplot as plt\n",
    "import seaborn as sns\n",
    "import numpy as np\n",
    "\n",
    "from imblearn.over_sampling import RandomOverSampler\n",
    "\n",
    "np.random.seed(142857)\n",
    "\n",
    "from itertools import cycle\n",
    "\n",
    "from IPython.core.pylabtools import figsize\n",
    "figsize(11, 9)"
   ]
  },
  {
   "cell_type": "markdown",
   "metadata": {},
   "source": [
    "# Análise Exploratória"
   ]
  },
  {
   "cell_type": "code",
   "execution_count": 113,
   "metadata": {},
   "outputs": [
    {
     "data": {
      "text/html": [
       "<div>\n",
       "<style scoped>\n",
       "    .dataframe tbody tr th:only-of-type {\n",
       "        vertical-align: middle;\n",
       "    }\n",
       "\n",
       "    .dataframe tbody tr th {\n",
       "        vertical-align: top;\n",
       "    }\n",
       "\n",
       "    .dataframe thead th {\n",
       "        text-align: right;\n",
       "    }\n",
       "</style>\n",
       "<table border=\"1\" class=\"dataframe\">\n",
       "  <thead>\n",
       "    <tr style=\"text-align: right;\">\n",
       "      <th></th>\n",
       "      <th>type</th>\n",
       "      <th>fixed acidity</th>\n",
       "      <th>volatile acidity</th>\n",
       "      <th>citric acid</th>\n",
       "      <th>residual sugar</th>\n",
       "      <th>chlorides</th>\n",
       "      <th>free sulfur dioxide</th>\n",
       "      <th>total sulfur dioxide</th>\n",
       "      <th>density</th>\n",
       "      <th>pH</th>\n",
       "      <th>sulphates</th>\n",
       "      <th>alcohol</th>\n",
       "      <th>quality</th>\n",
       "    </tr>\n",
       "  </thead>\n",
       "  <tbody>\n",
       "    <tr>\n",
       "      <th>0</th>\n",
       "      <td>White</td>\n",
       "      <td>7.0</td>\n",
       "      <td>0.27</td>\n",
       "      <td>0.36</td>\n",
       "      <td>20.7</td>\n",
       "      <td>0.045</td>\n",
       "      <td>45.0</td>\n",
       "      <td>170.0</td>\n",
       "      <td>1.0010</td>\n",
       "      <td>3.00</td>\n",
       "      <td>0.45</td>\n",
       "      <td>8.8</td>\n",
       "      <td>6</td>\n",
       "    </tr>\n",
       "    <tr>\n",
       "      <th>1</th>\n",
       "      <td>White</td>\n",
       "      <td>6.3</td>\n",
       "      <td>0.30</td>\n",
       "      <td>0.34</td>\n",
       "      <td>1.6</td>\n",
       "      <td>0.049</td>\n",
       "      <td>14.0</td>\n",
       "      <td>132.0</td>\n",
       "      <td>0.9940</td>\n",
       "      <td>3.30</td>\n",
       "      <td>0.49</td>\n",
       "      <td>9.5</td>\n",
       "      <td>6</td>\n",
       "    </tr>\n",
       "    <tr>\n",
       "      <th>2</th>\n",
       "      <td>White</td>\n",
       "      <td>8.1</td>\n",
       "      <td>0.28</td>\n",
       "      <td>0.40</td>\n",
       "      <td>6.9</td>\n",
       "      <td>0.050</td>\n",
       "      <td>30.0</td>\n",
       "      <td>97.0</td>\n",
       "      <td>0.9951</td>\n",
       "      <td>3.26</td>\n",
       "      <td>0.44</td>\n",
       "      <td>10.1</td>\n",
       "      <td>6</td>\n",
       "    </tr>\n",
       "    <tr>\n",
       "      <th>3</th>\n",
       "      <td>White</td>\n",
       "      <td>7.2</td>\n",
       "      <td>0.23</td>\n",
       "      <td>0.32</td>\n",
       "      <td>8.5</td>\n",
       "      <td>0.058</td>\n",
       "      <td>47.0</td>\n",
       "      <td>186.0</td>\n",
       "      <td>0.9956</td>\n",
       "      <td>3.19</td>\n",
       "      <td>0.40</td>\n",
       "      <td>9.9</td>\n",
       "      <td>6</td>\n",
       "    </tr>\n",
       "    <tr>\n",
       "      <th>4</th>\n",
       "      <td>White</td>\n",
       "      <td>7.2</td>\n",
       "      <td>0.23</td>\n",
       "      <td>0.32</td>\n",
       "      <td>8.5</td>\n",
       "      <td>0.058</td>\n",
       "      <td>47.0</td>\n",
       "      <td>186.0</td>\n",
       "      <td>0.9956</td>\n",
       "      <td>3.19</td>\n",
       "      <td>0.40</td>\n",
       "      <td>9.9</td>\n",
       "      <td>6</td>\n",
       "    </tr>\n",
       "  </tbody>\n",
       "</table>\n",
       "</div>"
      ],
      "text/plain": [
       "    type  fixed acidity  volatile acidity  citric acid  residual sugar  \\\n",
       "0  White            7.0              0.27         0.36            20.7   \n",
       "1  White            6.3              0.30         0.34             1.6   \n",
       "2  White            8.1              0.28         0.40             6.9   \n",
       "3  White            7.2              0.23         0.32             8.5   \n",
       "4  White            7.2              0.23         0.32             8.5   \n",
       "\n",
       "   chlorides  free sulfur dioxide  total sulfur dioxide  density    pH  \\\n",
       "0      0.045                 45.0                 170.0   1.0010  3.00   \n",
       "1      0.049                 14.0                 132.0   0.9940  3.30   \n",
       "2      0.050                 30.0                  97.0   0.9951  3.26   \n",
       "3      0.058                 47.0                 186.0   0.9956  3.19   \n",
       "4      0.058                 47.0                 186.0   0.9956  3.19   \n",
       "\n",
       "   sulphates alcohol  quality  \n",
       "0       0.45     8.8        6  \n",
       "1       0.49     9.5        6  \n",
       "2       0.44    10.1        6  \n",
       "3       0.40     9.9        6  \n",
       "4       0.40     9.9        6  "
      ]
     },
     "execution_count": 113,
     "metadata": {},
     "output_type": "execute_result"
    }
   ],
   "source": [
    "raw = pd.read_csv('winequality.csv', sep=';')\n",
    "raw.head()"
   ]
  },
  {
   "cell_type": "code",
   "execution_count": 114,
   "metadata": {},
   "outputs": [
    {
     "name": "stdout",
     "output_type": "stream",
     "text": [
      "<class 'pandas.core.frame.DataFrame'>\n",
      "RangeIndex: 6497 entries, 0 to 6496\n",
      "Data columns (total 13 columns):\n",
      " #   Column                Non-Null Count  Dtype  \n",
      "---  ------                --------------  -----  \n",
      " 0   type                  6497 non-null   object \n",
      " 1   fixed acidity         6497 non-null   float64\n",
      " 2   volatile acidity      6497 non-null   float64\n",
      " 3   citric acid           6497 non-null   float64\n",
      " 4   residual sugar        6497 non-null   float64\n",
      " 5   chlorides             6497 non-null   float64\n",
      " 6   free sulfur dioxide   6497 non-null   float64\n",
      " 7   total sulfur dioxide  6497 non-null   float64\n",
      " 8   density               6497 non-null   float64\n",
      " 9   pH                    6497 non-null   float64\n",
      " 10  sulphates             6497 non-null   float64\n",
      " 11  alcohol               6497 non-null   object \n",
      " 12  quality               6497 non-null   int64  \n",
      "dtypes: float64(10), int64(1), object(2)\n",
      "memory usage: 660.0+ KB\n"
     ]
    }
   ],
   "source": [
    "raw.info()"
   ]
  },
  {
   "cell_type": "markdown",
   "metadata": {},
   "source": [
    "a biblioteca do pandas não conseguiu converter a variável alcohol para float64, é um sinal que tem variáveis com tipos diferentes na coluna."
   ]
  },
  {
   "cell_type": "code",
   "execution_count": 115,
   "metadata": {},
   "outputs": [],
   "source": [
    "# antes de preprocessar o texto vou manter uma cópia do original\n",
    "df = raw.copy()"
   ]
  },
  {
   "cell_type": "code",
   "execution_count": 116,
   "metadata": {},
   "outputs": [
    {
     "data": {
      "text/plain": [
       "count    6457.000000\n",
       "mean       10.489083\n",
       "std         1.192961\n",
       "min         8.000000\n",
       "25%         9.500000\n",
       "50%        10.300000\n",
       "75%        11.300000\n",
       "max        14.900000\n",
       "Name: alcohol, dtype: float64"
      ]
     },
     "execution_count": 116,
     "metadata": {},
     "output_type": "execute_result"
    }
   ],
   "source": [
    "# cleanup\n",
    "# força a conversão em numérico e em caso de erro preenche com NaN\n",
    "df['alcohol'] = pd.to_numeric(df['alcohol'], errors='coerce')\n",
    "df['alcohol'].describe()"
   ]
  },
  {
   "cell_type": "code",
   "execution_count": 117,
   "metadata": {},
   "outputs": [
    {
     "data": {
      "text/plain": [
       "40"
      ]
     },
     "execution_count": 117,
     "metadata": {},
     "output_type": "execute_result"
    }
   ],
   "source": [
    "# nulos após a limpeza\n",
    "df['alcohol'].isnull().sum()"
   ]
  },
  {
   "cell_type": "markdown",
   "metadata": {},
   "source": [
    "os valores da coluna alcohos estão estranhos.\n",
    "Mas parece que a informação ainda está ali, pode ser um erro de parser."
   ]
  },
  {
   "cell_type": "code",
   "execution_count": 118,
   "metadata": {},
   "outputs": [
    {
     "data": {
      "text/plain": [
       "4315    128.933.333.333.333\n",
       "4319    128.933.333.333.333\n",
       "4323    114.666.666.666.667\n",
       "4341    100.333.333.333.333\n",
       "4353    114.333.333.333.333\n",
       "4356    105.333.333.333.333\n",
       "4358    953.333.333.333.333\n",
       "4364    109.333.333.333.333\n",
       "4369    109.333.333.333.333\n",
       "4372    113.666.666.666.667\n",
       "4377    113.333.333.333.333\n",
       "4380    110.666.666.666.667\n",
       "4383    113.333.333.333.333\n",
       "4403    973.333.333.333.333\n",
       "4410    973.333.333.333.333\n",
       "4435    113.333.333.333.333\n",
       "4507    123.333.333.333.333\n",
       "4615    112.666.666.666.667\n",
       "4636    105.666.666.666.667\n",
       "4637    117.333.333.333.333\n",
       "4654    109.666.666.666.667\n",
       "4655    109.666.666.666.667\n",
       "4656    109.666.666.666.667\n",
       "4663    101.333.333.333.333\n",
       "4664    101.333.333.333.333\n",
       "4671    104.666.666.666.667\n",
       "4672    104.666.666.666.667\n",
       "4674    116.333.333.333.333\n",
       "4734    116.333.333.333.333\n",
       "4818    131.333.333.333.333\n",
       "4854    120.666.666.666.667\n",
       "4864    963.333.333.333.333\n",
       "4879    953.333.333.333.333\n",
       "4880    953.333.333.333.333\n",
       "6257    100.333.333.333.333\n",
       "6260    100.333.333.333.333\n",
       "6337    110.666.666.666.667\n",
       "6339    956.666.666.666.667\n",
       "6373    135.666.666.666.667\n",
       "6412    923.333.333.333.333\n",
       "Name: alcohol, dtype: object"
      ]
     },
     "execution_count": 118,
     "metadata": {},
     "output_type": "execute_result"
    }
   ],
   "source": [
    "# os valores da coluna alcohos estão estranhos\n",
    "# mas me parece que a informação ainda está ali, pode ser um erro de parser\n",
    "alcohol_error = raw.loc[df['alcohol'].isnull(), 'alcohol']\n",
    "alcohol_error"
   ]
  },
  {
   "cell_type": "code",
   "execution_count": 119,
   "metadata": {},
   "outputs": [
    {
     "data": {
      "text/plain": [
       "4315    12.80\n",
       "4319    12.80\n",
       "4323    11.40\n",
       "4341    10.00\n",
       "4353    11.40\n",
       "4356    10.50\n",
       "4358     9.53\n",
       "4364    10.90\n",
       "4369    10.90\n",
       "4372    11.30\n",
       "4377    11.30\n",
       "4380    11.00\n",
       "4383    11.30\n",
       "4403     9.73\n",
       "4410     9.73\n",
       "4435    11.30\n",
       "4507    12.30\n",
       "4615    11.20\n",
       "4636    10.50\n",
       "4637    11.70\n",
       "4654    10.90\n",
       "4655    10.90\n",
       "4656    10.90\n",
       "4663    10.10\n",
       "4664    10.10\n",
       "4671    10.40\n",
       "4672    10.40\n",
       "4674    11.60\n",
       "4734    11.60\n",
       "4818    13.10\n",
       "4854    12.00\n",
       "4864     9.63\n",
       "4879     9.53\n",
       "4880     9.53\n",
       "6257    10.00\n",
       "6260    10.00\n",
       "6337    11.00\n",
       "6339     9.56\n",
       "6373    13.50\n",
       "6412     9.23\n",
       "Name: alcohol, dtype: float64"
      ]
     },
     "execution_count": 119,
     "metadata": {},
     "output_type": "execute_result"
    }
   ],
   "source": [
    "def fix_parser(val):\n",
    "    head = float(val[:3]) / 10\n",
    "    if head <= df['alcohol'].max():\n",
    "        return head\n",
    "    else:\n",
    "        return head / 10\n",
    "\n",
    "alcohol_fixed = alcohol_error.apply(fix_parser)\n",
    "alcohol_fixed"
   ]
  },
  {
   "cell_type": "code",
   "execution_count": 120,
   "metadata": {},
   "outputs": [
    {
     "data": {
      "text/plain": [
       "0"
      ]
     },
     "execution_count": 120,
     "metadata": {},
     "output_type": "execute_result"
    }
   ],
   "source": [
    "# adiciona os valores corrigidos ao dataset\n",
    "df.loc[alcohol_fixed.index, 'alcohol'] = alcohol_fixed\n",
    "df['alcohol'].isnull().sum()"
   ]
  },
  {
   "cell_type": "code",
   "execution_count": 121,
   "metadata": {},
   "outputs": [
    {
     "data": {
      "text/plain": [
       "type                    0\n",
       "fixed acidity           0\n",
       "volatile acidity        0\n",
       "citric acid             0\n",
       "residual sugar          0\n",
       "chlorides               0\n",
       "free sulfur dioxide     0\n",
       "total sulfur dioxide    0\n",
       "density                 0\n",
       "pH                      0\n",
       "sulphates               0\n",
       "alcohol                 0\n",
       "quality                 0\n",
       "dtype: int64"
      ]
     },
     "execution_count": 121,
     "metadata": {},
     "output_type": "execute_result"
    }
   ],
   "source": [
    "# check para ver se contém algum outro valor nulo\n",
    "df.isnull().sum()"
   ]
  },
  {
   "cell_type": "code",
   "execution_count": 122,
   "metadata": {},
   "outputs": [
    {
     "data": {
      "text/html": [
       "<div>\n",
       "<style scoped>\n",
       "    .dataframe tbody tr th:only-of-type {\n",
       "        vertical-align: middle;\n",
       "    }\n",
       "\n",
       "    .dataframe tbody tr th {\n",
       "        vertical-align: top;\n",
       "    }\n",
       "\n",
       "    .dataframe thead th {\n",
       "        text-align: right;\n",
       "    }\n",
       "</style>\n",
       "<table border=\"1\" class=\"dataframe\">\n",
       "  <thead>\n",
       "    <tr style=\"text-align: right;\">\n",
       "      <th></th>\n",
       "      <th>type</th>\n",
       "      <th>fixed acidity</th>\n",
       "      <th>volatile acidity</th>\n",
       "      <th>citric acid</th>\n",
       "      <th>residual sugar</th>\n",
       "      <th>chlorides</th>\n",
       "      <th>free sulfur dioxide</th>\n",
       "      <th>total sulfur dioxide</th>\n",
       "      <th>density</th>\n",
       "      <th>pH</th>\n",
       "      <th>sulphates</th>\n",
       "      <th>alcohol</th>\n",
       "      <th>quality</th>\n",
       "    </tr>\n",
       "  </thead>\n",
       "  <tbody>\n",
       "    <tr>\n",
       "      <th>count</th>\n",
       "      <td>6497</td>\n",
       "      <td>6497.00</td>\n",
       "      <td>6497.00</td>\n",
       "      <td>6497.00</td>\n",
       "      <td>6497.00</td>\n",
       "      <td>6497.00</td>\n",
       "      <td>6497.00</td>\n",
       "      <td>6497.00</td>\n",
       "      <td>6497.00</td>\n",
       "      <td>6497.00</td>\n",
       "      <td>6497.00</td>\n",
       "      <td>6497.00</td>\n",
       "      <td>6497.00</td>\n",
       "    </tr>\n",
       "    <tr>\n",
       "      <th>unique</th>\n",
       "      <td>2</td>\n",
       "      <td>NaN</td>\n",
       "      <td>NaN</td>\n",
       "      <td>NaN</td>\n",
       "      <td>NaN</td>\n",
       "      <td>NaN</td>\n",
       "      <td>NaN</td>\n",
       "      <td>NaN</td>\n",
       "      <td>NaN</td>\n",
       "      <td>NaN</td>\n",
       "      <td>NaN</td>\n",
       "      <td>NaN</td>\n",
       "      <td>NaN</td>\n",
       "    </tr>\n",
       "    <tr>\n",
       "      <th>top</th>\n",
       "      <td>White</td>\n",
       "      <td>NaN</td>\n",
       "      <td>NaN</td>\n",
       "      <td>NaN</td>\n",
       "      <td>NaN</td>\n",
       "      <td>NaN</td>\n",
       "      <td>NaN</td>\n",
       "      <td>NaN</td>\n",
       "      <td>NaN</td>\n",
       "      <td>NaN</td>\n",
       "      <td>NaN</td>\n",
       "      <td>NaN</td>\n",
       "      <td>NaN</td>\n",
       "    </tr>\n",
       "    <tr>\n",
       "      <th>freq</th>\n",
       "      <td>4898</td>\n",
       "      <td>NaN</td>\n",
       "      <td>NaN</td>\n",
       "      <td>NaN</td>\n",
       "      <td>NaN</td>\n",
       "      <td>NaN</td>\n",
       "      <td>NaN</td>\n",
       "      <td>NaN</td>\n",
       "      <td>NaN</td>\n",
       "      <td>NaN</td>\n",
       "      <td>NaN</td>\n",
       "      <td>NaN</td>\n",
       "      <td>NaN</td>\n",
       "    </tr>\n",
       "    <tr>\n",
       "      <th>mean</th>\n",
       "      <td>NaN</td>\n",
       "      <td>7.22</td>\n",
       "      <td>0.34</td>\n",
       "      <td>0.32</td>\n",
       "      <td>5.44</td>\n",
       "      <td>0.06</td>\n",
       "      <td>30.53</td>\n",
       "      <td>115.74</td>\n",
       "      <td>1.71</td>\n",
       "      <td>3.22</td>\n",
       "      <td>0.53</td>\n",
       "      <td>10.49</td>\n",
       "      <td>5.82</td>\n",
       "    </tr>\n",
       "    <tr>\n",
       "      <th>std</th>\n",
       "      <td>NaN</td>\n",
       "      <td>1.30</td>\n",
       "      <td>0.16</td>\n",
       "      <td>0.15</td>\n",
       "      <td>4.76</td>\n",
       "      <td>0.04</td>\n",
       "      <td>17.75</td>\n",
       "      <td>56.52</td>\n",
       "      <td>7.64</td>\n",
       "      <td>0.16</td>\n",
       "      <td>0.15</td>\n",
       "      <td>1.19</td>\n",
       "      <td>0.87</td>\n",
       "    </tr>\n",
       "    <tr>\n",
       "      <th>min</th>\n",
       "      <td>NaN</td>\n",
       "      <td>3.80</td>\n",
       "      <td>0.08</td>\n",
       "      <td>0.00</td>\n",
       "      <td>0.60</td>\n",
       "      <td>0.01</td>\n",
       "      <td>1.00</td>\n",
       "      <td>6.00</td>\n",
       "      <td>0.99</td>\n",
       "      <td>2.72</td>\n",
       "      <td>0.22</td>\n",
       "      <td>8.00</td>\n",
       "      <td>3.00</td>\n",
       "    </tr>\n",
       "    <tr>\n",
       "      <th>1%</th>\n",
       "      <td>NaN</td>\n",
       "      <td>5.10</td>\n",
       "      <td>0.12</td>\n",
       "      <td>0.00</td>\n",
       "      <td>0.90</td>\n",
       "      <td>0.02</td>\n",
       "      <td>4.00</td>\n",
       "      <td>11.00</td>\n",
       "      <td>0.99</td>\n",
       "      <td>2.89</td>\n",
       "      <td>0.30</td>\n",
       "      <td>8.70</td>\n",
       "      <td>4.00</td>\n",
       "    </tr>\n",
       "    <tr>\n",
       "      <th>25%</th>\n",
       "      <td>NaN</td>\n",
       "      <td>6.40</td>\n",
       "      <td>0.23</td>\n",
       "      <td>0.25</td>\n",
       "      <td>1.80</td>\n",
       "      <td>0.04</td>\n",
       "      <td>17.00</td>\n",
       "      <td>77.00</td>\n",
       "      <td>0.99</td>\n",
       "      <td>3.11</td>\n",
       "      <td>0.43</td>\n",
       "      <td>9.50</td>\n",
       "      <td>5.00</td>\n",
       "    </tr>\n",
       "    <tr>\n",
       "      <th>50%</th>\n",
       "      <td>NaN</td>\n",
       "      <td>7.00</td>\n",
       "      <td>0.29</td>\n",
       "      <td>0.31</td>\n",
       "      <td>3.00</td>\n",
       "      <td>0.05</td>\n",
       "      <td>29.00</td>\n",
       "      <td>118.00</td>\n",
       "      <td>0.99</td>\n",
       "      <td>3.21</td>\n",
       "      <td>0.51</td>\n",
       "      <td>10.30</td>\n",
       "      <td>6.00</td>\n",
       "    </tr>\n",
       "    <tr>\n",
       "      <th>75%</th>\n",
       "      <td>NaN</td>\n",
       "      <td>7.70</td>\n",
       "      <td>0.40</td>\n",
       "      <td>0.39</td>\n",
       "      <td>8.10</td>\n",
       "      <td>0.06</td>\n",
       "      <td>41.00</td>\n",
       "      <td>156.00</td>\n",
       "      <td>1.00</td>\n",
       "      <td>3.32</td>\n",
       "      <td>0.60</td>\n",
       "      <td>11.30</td>\n",
       "      <td>6.00</td>\n",
       "    </tr>\n",
       "    <tr>\n",
       "      <th>90%</th>\n",
       "      <td>NaN</td>\n",
       "      <td>8.80</td>\n",
       "      <td>0.59</td>\n",
       "      <td>0.49</td>\n",
       "      <td>13.00</td>\n",
       "      <td>0.09</td>\n",
       "      <td>54.00</td>\n",
       "      <td>188.00</td>\n",
       "      <td>1.00</td>\n",
       "      <td>3.42</td>\n",
       "      <td>0.72</td>\n",
       "      <td>12.30</td>\n",
       "      <td>7.00</td>\n",
       "    </tr>\n",
       "    <tr>\n",
       "      <th>99%</th>\n",
       "      <td>NaN</td>\n",
       "      <td>12.00</td>\n",
       "      <td>0.88</td>\n",
       "      <td>0.74</td>\n",
       "      <td>18.20</td>\n",
       "      <td>0.19</td>\n",
       "      <td>77.00</td>\n",
       "      <td>238.00</td>\n",
       "      <td>10.01</td>\n",
       "      <td>3.64</td>\n",
       "      <td>0.99</td>\n",
       "      <td>13.40</td>\n",
       "      <td>8.00</td>\n",
       "    </tr>\n",
       "    <tr>\n",
       "      <th>max</th>\n",
       "      <td>NaN</td>\n",
       "      <td>15.90</td>\n",
       "      <td>1.58</td>\n",
       "      <td>1.66</td>\n",
       "      <td>65.80</td>\n",
       "      <td>0.61</td>\n",
       "      <td>289.00</td>\n",
       "      <td>440.00</td>\n",
       "      <td>103.90</td>\n",
       "      <td>4.01</td>\n",
       "      <td>2.00</td>\n",
       "      <td>14.90</td>\n",
       "      <td>9.00</td>\n",
       "    </tr>\n",
       "  </tbody>\n",
       "</table>\n",
       "</div>"
      ],
      "text/plain": [
       "         type  fixed acidity  volatile acidity  citric acid  residual sugar  \\\n",
       "count    6497        6497.00           6497.00      6497.00         6497.00   \n",
       "unique      2            NaN               NaN          NaN             NaN   \n",
       "top     White            NaN               NaN          NaN             NaN   \n",
       "freq     4898            NaN               NaN          NaN             NaN   \n",
       "mean      NaN           7.22              0.34         0.32            5.44   \n",
       "std       NaN           1.30              0.16         0.15            4.76   \n",
       "min       NaN           3.80              0.08         0.00            0.60   \n",
       "1%        NaN           5.10              0.12         0.00            0.90   \n",
       "25%       NaN           6.40              0.23         0.25            1.80   \n",
       "50%       NaN           7.00              0.29         0.31            3.00   \n",
       "75%       NaN           7.70              0.40         0.39            8.10   \n",
       "90%       NaN           8.80              0.59         0.49           13.00   \n",
       "99%       NaN          12.00              0.88         0.74           18.20   \n",
       "max       NaN          15.90              1.58         1.66           65.80   \n",
       "\n",
       "        chlorides  free sulfur dioxide  total sulfur dioxide  density  \\\n",
       "count     6497.00              6497.00               6497.00  6497.00   \n",
       "unique        NaN                  NaN                   NaN      NaN   \n",
       "top           NaN                  NaN                   NaN      NaN   \n",
       "freq          NaN                  NaN                   NaN      NaN   \n",
       "mean         0.06                30.53                115.74     1.71   \n",
       "std          0.04                17.75                 56.52     7.64   \n",
       "min          0.01                 1.00                  6.00     0.99   \n",
       "1%           0.02                 4.00                 11.00     0.99   \n",
       "25%          0.04                17.00                 77.00     0.99   \n",
       "50%          0.05                29.00                118.00     0.99   \n",
       "75%          0.06                41.00                156.00     1.00   \n",
       "90%          0.09                54.00                188.00     1.00   \n",
       "99%          0.19                77.00                238.00    10.01   \n",
       "max          0.61               289.00                440.00   103.90   \n",
       "\n",
       "             pH  sulphates  alcohol  quality  \n",
       "count   6497.00    6497.00  6497.00  6497.00  \n",
       "unique      NaN        NaN      NaN      NaN  \n",
       "top         NaN        NaN      NaN      NaN  \n",
       "freq        NaN        NaN      NaN      NaN  \n",
       "mean       3.22       0.53    10.49     5.82  \n",
       "std        0.16       0.15     1.19     0.87  \n",
       "min        2.72       0.22     8.00     3.00  \n",
       "1%         2.89       0.30     8.70     4.00  \n",
       "25%        3.11       0.43     9.50     5.00  \n",
       "50%        3.21       0.51    10.30     6.00  \n",
       "75%        3.32       0.60    11.30     6.00  \n",
       "90%        3.42       0.72    12.30     7.00  \n",
       "99%        3.64       0.99    13.40     8.00  \n",
       "max        4.01       2.00    14.90     9.00  "
      ]
     },
     "execution_count": 122,
     "metadata": {},
     "output_type": "execute_result"
    }
   ],
   "source": [
    "df.describe(include='all', percentiles=[.01, .25, .50, .75, .90, .99]).round(2)"
   ]
  },
  {
   "cell_type": "markdown",
   "metadata": {},
   "source": [
    "os valores de densidade também estão estranhos, deveria ser algo entre 0,1 pode ser um erro de parser ou um problemas de conversão de unidades."
   ]
  },
  {
   "cell_type": "code",
   "execution_count": 123,
   "metadata": {},
   "outputs": [
    {
     "data": {
      "text/plain": [
       "0         1.001\n",
       "7         1.001\n",
       "14       10.002\n",
       "182       1.001\n",
       "191       1.001\n",
       "         ...   \n",
       "5787    100.289\n",
       "6332    100.369\n",
       "6333    100.369\n",
       "6372    100.242\n",
       "6374    100.242\n",
       "Name: density, Length: 147, dtype: float64"
      ]
     },
     "execution_count": 123,
     "metadata": {},
     "output_type": "execute_result"
    }
   ],
   "source": [
    "df.loc[df['density'] > 1, 'density']"
   ]
  },
  {
   "cell_type": "code",
   "execution_count": 124,
   "metadata": {},
   "outputs": [
    {
     "data": {
      "text/plain": [
       "count    6497.000000\n",
       "mean        0.994669\n",
       "std         0.002898\n",
       "min         0.987110\n",
       "25%         0.992340\n",
       "50%         0.994890\n",
       "75%         0.996990\n",
       "max         1.000000\n",
       "Name: density, dtype: float64"
      ]
     },
     "execution_count": 124,
     "metadata": {},
     "output_type": "execute_result"
    }
   ],
   "source": [
    "df['density'] = df['density'].clip(0, 1)\n",
    "df['density'].describe()"
   ]
  },
  {
   "cell_type": "markdown",
   "metadata": {},
   "source": [
    "Nesse contexto os valores extremos (outliers) podem ser de vinhos muito ruins ou muito bons."
   ]
  },
  {
   "cell_type": "code",
   "execution_count": 125,
   "metadata": {},
   "outputs": [
    {
     "data": {
      "text/plain": [
       "3      30\n",
       "4     216\n",
       "5    2138\n",
       "6    2836\n",
       "7    1079\n",
       "8     193\n",
       "9       5\n",
       "Name: quality, dtype: int64"
      ]
     },
     "execution_count": 125,
     "metadata": {},
     "output_type": "execute_result"
    }
   ],
   "source": [
    "df['quality'].value_counts().sort_index()"
   ]
  },
  {
   "cell_type": "code",
   "execution_count": 126,
   "metadata": {},
   "outputs": [
    {
     "name": "stdout",
     "output_type": "stream",
     "text": [
      "com outliers: 6497\n",
      "sem outliers: 5975\n",
      "outliers: 522\n"
     ]
    }
   ],
   "source": [
    "# criar uma mascara sobre os outliers\n",
    "num_variable = [c for c in df.columns if not c in ('type', 'quality')]\n",
    "\n",
    "outliers = pd.Series([True] * df.shape[0])\n",
    "\n",
    "for var in num_variable:\n",
    "    outliers = outliers & df[var].between(df[var].min(), df[var].quantile(.99))\n",
    "    \n",
    "print('com outliers:', df.shape[0])\n",
    "print('sem outliers:', df[outliers].shape[0])\n",
    "print('outliers:', df[~outliers].shape[0])"
   ]
  },
  {
   "cell_type": "code",
   "execution_count": 127,
   "metadata": {},
   "outputs": [
    {
     "data": {
      "text/plain": [
       "3    0.400\n",
       "4    0.139\n",
       "5    0.093\n",
       "6    0.070\n",
       "7    0.069\n",
       "8    0.052\n",
       "9      NaN\n",
       "Name: quality, dtype: float64"
      ]
     },
     "execution_count": 127,
     "metadata": {},
     "output_type": "execute_result"
    }
   ],
   "source": [
    "(df.loc[~outliers, 'quality'].value_counts() / df['quality'].value_counts()).round(3)"
   ]
  },
  {
   "cell_type": "markdown",
   "metadata": {},
   "source": [
    "de fato 40% dos vinhos que receberam um score 3 estão com algum parâmetro muito fora do limite da amostra. O que parece caracterizar um vinho ruim. "
   ]
  },
  {
   "cell_type": "code",
   "execution_count": 128,
   "metadata": {},
   "outputs": [],
   "source": [
    "# um último ajuste, converter a variável categórica em numérica\n",
    "df['type'] = df['type'].map({'White': 0, 'Red': 1}).astype(int)"
   ]
  },
  {
   "cell_type": "markdown",
   "metadata": {},
   "source": [
    "## Avaliar a relação das variáveis independentes com o qualidade do vinho"
   ]
  },
  {
   "cell_type": "code",
   "execution_count": 129,
   "metadata": {},
   "outputs": [
    {
     "data": {
      "text/plain": [
       "0    0.753886\n",
       "1    0.246114\n",
       "Name: type, dtype: float64"
      ]
     },
     "execution_count": 129,
     "metadata": {},
     "output_type": "execute_result"
    }
   ],
   "source": [
    "# propoção de vinhos brancos e tintos\n",
    "df['type'].value_counts() / df.shape[0]"
   ]
  },
  {
   "cell_type": "markdown",
   "metadata": {},
   "source": [
    "75% da amostra é de vinho branco e 25% vinho tinto"
   ]
  },
  {
   "cell_type": "code",
   "execution_count": 130,
   "metadata": {},
   "outputs": [
    {
     "name": "stdout",
     "output_type": "stream",
     "text": [
      "score médio para vinhos brancos 5.88\n"
     ]
    },
    {
     "data": {
      "text/plain": [
       "6    2198\n",
       "5    1457\n",
       "7     880\n",
       "8     175\n",
       "4     163\n",
       "3      20\n",
       "9       5\n",
       "Name: quality, dtype: int64"
      ]
     },
     "execution_count": 130,
     "metadata": {},
     "output_type": "execute_result"
    }
   ],
   "source": [
    "print('score médio para vinhos brancos', round(df.query(\"type == 0\")['quality'].mean(), 2))\n",
    "df.query(\"type == 0\")['quality'].value_counts() "
   ]
  },
  {
   "cell_type": "code",
   "execution_count": 131,
   "metadata": {},
   "outputs": [
    {
     "name": "stdout",
     "output_type": "stream",
     "text": [
      "score médio para vinhos tintos 5.64\n"
     ]
    },
    {
     "data": {
      "text/plain": [
       "5    681\n",
       "6    638\n",
       "7    199\n",
       "4     53\n",
       "8     18\n",
       "3     10\n",
       "Name: quality, dtype: int64"
      ]
     },
     "execution_count": 131,
     "metadata": {},
     "output_type": "execute_result"
    }
   ],
   "source": [
    "print('score médio para vinhos tintos', round(df.query(\"type == 1\")['quality'].mean(), 2))\n",
    "df.query(\"type == 1\")['quality'].value_counts()"
   ]
  },
  {
   "cell_type": "markdown",
   "metadata": {},
   "source": [
    "O pouco que temos de vinhos ótimos (9) são todos brancos. Os vinhos tintos têm um score ligeiramente mais baixo que os vinhos brancos."
   ]
  },
  {
   "cell_type": "code",
   "execution_count": 132,
   "metadata": {},
   "outputs": [
    {
     "data": {
      "image/png": "[encoded data removed]",
      "text/plain": [
       "<Figure size 720x1800 with 12 Axes>"
      ]
     },
     "metadata": {
      "needs_background": "light"
     },
     "output_type": "display_data"
    }
   ],
   "source": [
    "# plota cada variável com relação ao score de qualidade\n",
    "#stats = df[outliers].groupby('quality')[num_variable].agg(['mean', 'std'])\n",
    "stats = df.groupby('quality')[num_variable].agg(['mean', 'std'])\n",
    "x = stats.index\n",
    "\n",
    "rows = 6\n",
    "cols = 2\n",
    "fig, axs = plt.subplots(rows, cols, sharex=True, figsize=(10, 25))\n",
    "\n",
    "c = 0\n",
    "for i in range(rows):\n",
    "    for j in range(cols):\n",
    "        if c == len(num_variable): break\n",
    "        \n",
    "        var = num_variable[c]\n",
    "        c += 1\n",
    "        y = stats[(var, 'mean')].round(2)\n",
    "        std = stats[(var, 'std')].round(3)\n",
    "\n",
    "        axs[i, j].plot(x, y)\n",
    "        axs[i, j].fill_between(x, y - std, y + std, alpha=0.2)\n",
    "        axs[i, j].set_ylabel(var)\n",
    "        \n",
    "\n",
    "\n",
    "fig.suptitle('Variáveis contínuas vs score de qualidade', y=0.9, fontsize=16);"
   ]
  },
  {
   "cell_type": "code",
   "execution_count": 133,
   "metadata": {},
   "outputs": [
    {
     "data": {
      "text/plain": [
       "density                -0.305825\n",
       "volatile acidity       -0.242696\n",
       "chlorides              -0.230933\n",
       "type                   -0.114746\n",
       "fixed acidity          -0.073851\n",
       "total sulfur dioxide   -0.033586\n",
       "residual sugar         -0.028051\n",
       "pH                      0.022523\n",
       "sulphates               0.049640\n",
       "free sulfur dioxide     0.081922\n",
       "citric acid             0.093300\n",
       "alcohol                 0.444789\n",
       "quality                 1.000000\n",
       "Name: quality, dtype: float64"
      ]
     },
     "execution_count": 133,
     "metadata": {},
     "output_type": "execute_result"
    }
   ],
   "source": [
    "corr = df[outliers].corr()\n",
    "corr['quality'].sort_values()"
   ]
  },
  {
   "cell_type": "markdown",
   "metadata": {},
   "source": [
    "Variáveis correlacionadas positivamente com qualidade:\n",
    "* free sulfur dioxide\n",
    "* pH \n",
    "* sulphates\n",
    "* alcohol\n",
    "* citric acid\n",
    "\n",
    "Variáveis correlacionadas negativamente com qualidade:\n",
    "\n",
    "* fixed acidity\n",
    "* volatile acidity\n",
    "* residual sugar\n",
    "* chloride\n",
    "* total sulfur dioxide\n",
    "* density\n",
    "\n",
    "\n",
    "Pelo análise exploratória, podemos concluir que os vinhos bem avaliados tendem a ter um teor de álcool elevado e uma baixa densidade. \n",
    "Outros valores como \"volatile acidity\", \"chlorides\" também tem um correlação alta com a qualidade do vinho."
   ]
  },
  {
   "cell_type": "markdown",
   "metadata": {},
   "source": [
    "# Modelagem\n",
    "\n",
    "**output:** score entre 0 and 10 <br>\n",
    "**tipo:** multiclass classification"
   ]
  },
  {
   "cell_type": "code",
   "execution_count": 134,
   "metadata": {},
   "outputs": [],
   "source": [
    "from sklearn import svm\n",
    "from sklearn.ensemble import RandomForestClassifier\n",
    "from sklearn.neighbors import KNeighborsClassifier\n",
    "\n",
    "from sklearn.model_selection import train_test_split, cross_val_score\n",
    "from sklearn import metrics\n",
    "from sklearn.preprocessing import StandardScaler\n",
    "from sklearn.pipeline import make_pipeline\n",
    "import sklearn"
   ]
  },
  {
   "cell_type": "markdown",
   "metadata": {},
   "source": [
    "## Splits"
   ]
  },
  {
   "cell_type": "code",
   "execution_count": 135,
   "metadata": {},
   "outputs": [],
   "source": [
    "X = df.drop('quality', axis=1)\n",
    "y = df['quality']"
   ]
  },
  {
   "cell_type": "code",
   "execution_count": 136,
   "metadata": {},
   "outputs": [],
   "source": [
    "X_train, X_valid, y_train, y_valid = train_test_split(X, y, test_size=0.20, stratify=y, random_state=145827)"
   ]
  },
  {
   "cell_type": "code",
   "execution_count": 137,
   "metadata": {},
   "outputs": [
    {
     "data": {
      "text/plain": [
       "6    567\n",
       "5    428\n",
       "7    216\n",
       "4     43\n",
       "8     39\n",
       "3      6\n",
       "9      1\n",
       "Name: quality, dtype: int64"
      ]
     },
     "execution_count": 137,
     "metadata": {},
     "output_type": "execute_result"
    }
   ],
   "source": [
    "y_valid.value_counts()"
   ]
  },
  {
   "cell_type": "markdown",
   "metadata": {},
   "source": [
    "Classes Faltando:\n",
    "o dataset não tem nenhum vinho com score 1,2,10."
   ]
  },
  {
   "cell_type": "code",
   "execution_count": 138,
   "metadata": {},
   "outputs": [
    {
     "name": "stdout",
     "output_type": "stream",
     "text": [
      "(6497,)\n",
      "(5197,)\n",
      "(1300,)\n"
     ]
    }
   ],
   "source": [
    "print(y.shape)\n",
    "print(y_train.shape)\n",
    "print(y_valid.shape)"
   ]
  },
  {
   "cell_type": "code",
   "execution_count": 139,
   "metadata": {},
   "outputs": [
    {
     "data": {
      "text/plain": [
       "Text(0.5, 1.0, 'Distribuição das classes')"
      ]
     },
     "execution_count": 139,
     "metadata": {},
     "output_type": "execute_result"
    },
    {
     "data": {
      "image/png": "[encoded data removed]",
      "text/plain": [
       "<Figure size 792x648 with 1 Axes>"
      ]
     },
     "metadata": {
      "needs_background": "light"
     },
     "output_type": "display_data"
    }
   ],
   "source": [
    "(y_train.value_counts() / y_train.shape[0] * 100).plot(kind='bar')\n",
    "plt.title('Distribuição das classes')"
   ]
  },
  {
   "cell_type": "markdown",
   "metadata": {},
   "source": [
    "## Model Selection"
   ]
  },
  {
   "cell_type": "code",
   "execution_count": 140,
   "metadata": {},
   "outputs": [],
   "source": [
    "results = pd.DataFrame()"
   ]
  },
  {
   "cell_type": "code",
   "execution_count": 141,
   "metadata": {},
   "outputs": [],
   "source": [
    "scoring='recall_macro'"
   ]
  },
  {
   "cell_type": "code",
   "execution_count": 142,
   "metadata": {},
   "outputs": [],
   "source": [
    "rf = RandomForestClassifier()\n",
    "scores = cross_val_score(rf, X_train, y_train, cv=3, scoring=scoring)\n",
    "\n",
    "score = scores.mean()\n",
    "std = scores.std()\n",
    "\n",
    "results = results.append({'model': 'RandomForestClassifier', 'cost': score, 'std': std}, ignore_index=True)"
   ]
  },
  {
   "cell_type": "code",
   "execution_count": 143,
   "metadata": {},
   "outputs": [
    {
     "name": "stderr",
     "output_type": "stream",
     "text": [
      "/home/henrique/anaconda3/lib/python3.7/site-packages/sklearn/svm/_base.py:947: ConvergenceWarning: Liblinear failed to converge, increase the number of iterations.\n",
      "  \"the number of iterations.\", ConvergenceWarning)\n",
      "/home/henrique/anaconda3/lib/python3.7/site-packages/sklearn/svm/_base.py:947: ConvergenceWarning: Liblinear failed to converge, increase the number of iterations.\n",
      "  \"the number of iterations.\", ConvergenceWarning)\n"
     ]
    }
   ],
   "source": [
    "lsvc = make_pipeline(StandardScaler(), svm.LinearSVC(max_iter=10000))\n",
    "scores = cross_val_score(lsvc, X_train, y_train, cv=3, scoring=scoring)\n",
    "\n",
    "score = scores.mean()\n",
    "std = scores.std()\n",
    "\n",
    "results = results.append({'model': 'LinearSVC', 'cost': score, 'std': std}, ignore_index=True)"
   ]
  },
  {
   "cell_type": "code",
   "execution_count": 144,
   "metadata": {},
   "outputs": [],
   "source": [
    "svc = make_pipeline(StandardScaler(), svm.SVC())\n",
    "scores = cross_val_score(svc, X_train, y_train, cv=3, scoring=scoring)\n",
    "\n",
    "score = scores.mean()\n",
    "std = scores.std()\n",
    "\n",
    "results = results.append({'model': 'SVC', 'cost': score, 'std': std}, ignore_index=True)"
   ]
  },
  {
   "cell_type": "code",
   "execution_count": 145,
   "metadata": {},
   "outputs": [],
   "source": [
    "knc = make_pipeline(StandardScaler(), KNeighborsClassifier())\n",
    "scores = cross_val_score(knc, X_train, y_train, cv=3, scoring=scoring)\n",
    "\n",
    "score = scores.mean()\n",
    "std = scores.std()\n",
    "\n",
    "results = results.append({'model': 'KNeighborsClassifier', 'cost': score, 'std': std}, ignore_index=True)"
   ]
  },
  {
   "cell_type": "code",
   "execution_count": 146,
   "metadata": {},
   "outputs": [
    {
     "data": {
      "text/html": [
       "<div>\n",
       "<style scoped>\n",
       "    .dataframe tbody tr th:only-of-type {\n",
       "        vertical-align: middle;\n",
       "    }\n",
       "\n",
       "    .dataframe tbody tr th {\n",
       "        vertical-align: top;\n",
       "    }\n",
       "\n",
       "    .dataframe thead th {\n",
       "        text-align: right;\n",
       "    }\n",
       "</style>\n",
       "<table border=\"1\" class=\"dataframe\">\n",
       "  <thead>\n",
       "    <tr style=\"text-align: right;\">\n",
       "      <th></th>\n",
       "      <th>model</th>\n",
       "      <th>cost</th>\n",
       "      <th>std</th>\n",
       "    </tr>\n",
       "  </thead>\n",
       "  <tbody>\n",
       "    <tr>\n",
       "      <th>0</th>\n",
       "      <td>RandomForestClassifier</td>\n",
       "      <td>0.335448</td>\n",
       "      <td>0.004180</td>\n",
       "    </tr>\n",
       "    <tr>\n",
       "      <th>1</th>\n",
       "      <td>LinearSVC</td>\n",
       "      <td>0.197695</td>\n",
       "      <td>0.001692</td>\n",
       "    </tr>\n",
       "    <tr>\n",
       "      <th>2</th>\n",
       "      <td>SVC</td>\n",
       "      <td>0.225230</td>\n",
       "      <td>0.003090</td>\n",
       "    </tr>\n",
       "    <tr>\n",
       "      <th>3</th>\n",
       "      <td>KNeighborsClassifier</td>\n",
       "      <td>0.259199</td>\n",
       "      <td>0.003003</td>\n",
       "    </tr>\n",
       "  </tbody>\n",
       "</table>\n",
       "</div>"
      ],
      "text/plain": [
       "                    model      cost       std\n",
       "0  RandomForestClassifier  0.335448  0.004180\n",
       "1               LinearSVC  0.197695  0.001692\n",
       "2                     SVC  0.225230  0.003090\n",
       "3    KNeighborsClassifier  0.259199  0.003003"
      ]
     },
     "execution_count": 146,
     "metadata": {},
     "output_type": "execute_result"
    }
   ],
   "source": [
    "results[['model', 'cost', 'std']]"
   ]
  },
  {
   "cell_type": "markdown",
   "metadata": {},
   "source": [
    "# Tunning"
   ]
  },
  {
   "cell_type": "markdown",
   "metadata": {},
   "source": [
    "O default do random forest é overfitar os dados de treinamento"
   ]
  },
  {
   "cell_type": "code",
   "execution_count": 147,
   "metadata": {},
   "outputs": [
    {
     "name": "stdout",
     "output_type": "stream",
     "text": [
      "Training set - CV recall_macro 0.34 std: 0.001\n"
     ]
    }
   ],
   "source": [
    "rf_overfit = RandomForestClassifier(random_state=142857)\n",
    "\n",
    "rf_overfit.fit(X_train, y_train)\n",
    "\n",
    "scores = cross_val_score(rf_overfit, X_train, y_train, cv=3, scoring=scoring)\n",
    "\n",
    "score = scores.mean()\n",
    "std = scores.std()\n",
    "\n",
    "print(\"Training set - CV\", scoring, round(score, 2), 'std:', round(std, 3))\n",
    "\n",
    "y_pred = rf_overfit.predict(X_valid)"
   ]
  },
  {
   "cell_type": "code",
   "execution_count": 148,
   "metadata": {},
   "outputs": [
    {
     "data": {
      "text/plain": [
       "Text(0.5, 1.0, 'Training set - Confusion Matrix - Default')"
      ]
     },
     "execution_count": 148,
     "metadata": {},
     "output_type": "execute_result"
    },
    {
     "data": {
      "image/png": "[encoded data removed]",
      "text/plain": [
       "<Figure size 792x648 with 2 Axes>"
      ]
     },
     "metadata": {
      "needs_background": "light"
     },
     "output_type": "display_data"
    }
   ],
   "source": [
    "disp = metrics.plot_confusion_matrix(rf_overfit, X_train, y_train, cmap=plt.cm.RdPu, values_format='d')\n",
    "disp.ax_.set_title('Training set - Confusion Matrix - Default')"
   ]
  },
  {
   "cell_type": "code",
   "execution_count": 149,
   "metadata": {},
   "outputs": [
    {
     "name": "stdout",
     "output_type": "stream",
     "text": [
      "              precision    recall  f1-score   support\n",
      "\n",
      "           3       0.00      0.00      0.00         6\n",
      "           4       0.50      0.05      0.09        43\n",
      "           5       0.72      0.74      0.73       428\n",
      "           6       0.65      0.77      0.70       567\n",
      "           7       0.66      0.52      0.58       216\n",
      "           8       0.83      0.26      0.39        39\n",
      "           9       0.00      0.00      0.00         1\n",
      "\n",
      "    accuracy                           0.67      1300\n",
      "   macro avg       0.48      0.33      0.36      1300\n",
      "weighted avg       0.67      0.67      0.66      1300\n",
      "\n"
     ]
    },
    {
     "data": {
      "image/png": "[encoded data removed]",
      "text/plain": [
       "<Figure size 792x648 with 2 Axes>"
      ]
     },
     "metadata": {
      "needs_background": "light"
     },
     "output_type": "display_data"
    }
   ],
   "source": [
    "disp = metrics.plot_confusion_matrix(rf_overfit, X_valid, y_valid, cmap=plt.cm.RdPu, values_format='d')\n",
    "disp.ax_.set_title('Validation set - Confusion Matrix - Default')\n",
    "\n",
    "print(metrics.classification_report(y_valid, y_pred, zero_division=0))"
   ]
  },
  {
   "cell_type": "markdown",
   "metadata": {},
   "source": [
    "vamos limitar o tamanho das árvores para ter no mínimo 5 amostras por folha e incluir class_weight='balanced'"
   ]
  },
  {
   "cell_type": "code",
   "execution_count": 150,
   "metadata": {},
   "outputs": [
    {
     "name": "stdout",
     "output_type": "stream",
     "text": [
      "Training set [class_weight='balanced', min_samples_leaf=5] - CV recall_macro 0.37 std: 0.011\n"
     ]
    }
   ],
   "source": [
    "rf = RandomForestClassifier(min_samples_leaf=5, class_weight='balanced', random_state=142857)\n",
    "\n",
    "rf.fit(X_train, y_train)\n",
    "\n",
    "scores = cross_val_score(rf, X_train, y_train, cv=3, scoring=scoring)\n",
    "\n",
    "score = scores.mean()\n",
    "std = scores.std()\n",
    "\n",
    "print(\"Training set [class_weight='balanced', min_samples_leaf=5] - CV\", scoring, round(score, 2), 'std:', round(std, 3))\n",
    "\n",
    "y_pred = rf.predict(X_valid)"
   ]
  },
  {
   "cell_type": "code",
   "execution_count": 151,
   "metadata": {},
   "outputs": [
    {
     "data": {
      "text/plain": [
       "Text(0.5, 1.0, 'Training set - Confusion Matrix - min_samples_leaf=5')"
      ]
     },
     "execution_count": 151,
     "metadata": {},
     "output_type": "execute_result"
    },
    {
     "data": {
      "image/png": "[encoded data removed]",
      "text/plain": [
       "<Figure size 792x648 with 2 Axes>"
      ]
     },
     "metadata": {
      "needs_background": "light"
     },
     "output_type": "display_data"
    }
   ],
   "source": [
    "disp = metrics.plot_confusion_matrix(rf, X_train, y_train, cmap=plt.cm.RdPu, values_format='d')\n",
    "disp.ax_.set_title('Training set - Confusion Matrix - min_samples_leaf=5')"
   ]
  },
  {
   "cell_type": "code",
   "execution_count": 152,
   "metadata": {},
   "outputs": [
    {
     "name": "stdout",
     "output_type": "stream",
     "text": [
      "              precision    recall  f1-score   support\n",
      "\n",
      "           3       0.00      0.00      0.00         6\n",
      "           4       0.34      0.30      0.32        43\n",
      "           5       0.68      0.72      0.70       428\n",
      "           6       0.66      0.60      0.63       567\n",
      "           7       0.53      0.65      0.58       216\n",
      "           8       0.45      0.26      0.33        39\n",
      "           9       0.00      0.00      0.00         1\n",
      "\n",
      "    accuracy                           0.63      1300\n",
      "   macro avg       0.38      0.36      0.37      1300\n",
      "weighted avg       0.62      0.63      0.62      1300\n",
      "\n"
     ]
    },
    {
     "data": {
      "image/png": "[encoded data removed]",
      "text/plain": [
       "<Figure size 792x648 with 2 Axes>"
      ]
     },
     "metadata": {
      "needs_background": "light"
     },
     "output_type": "display_data"
    }
   ],
   "source": [
    "disp = metrics.plot_confusion_matrix(rf, X_valid, y_valid, cmap=plt.cm.RdPu, values_format='d')\n",
    "disp.ax_.set_title('Validation set - Confusion Matrix - min_samples_leaf=5')\n",
    "\n",
    "print(metrics.classification_report(y_valid, y_pred, zero_division=0))"
   ]
  },
  {
   "cell_type": "code",
   "execution_count": 153,
   "metadata": {},
   "outputs": [
    {
     "data": {
      "text/plain": [
       "Text(0.5, 1.0, 'Features Importances')"
      ]
     },
     "execution_count": 153,
     "metadata": {},
     "output_type": "execute_result"
    },
    {
     "data": {
      "image/png": "[encoded data removed]",
      "text/plain": [
       "<Figure size 792x648 with 1 Axes>"
      ]
     },
     "metadata": {
      "needs_background": "light"
     },
     "output_type": "display_data"
    }
   ],
   "source": [
    "pd.DataFrame(zip(X_valid.columns, rf.feature_importances_), columns=['feature', 'importance']).sort_values(by='importance', ascending=True).plot(kind='barh', x='feature', y='importance')\n",
    "plt.title('Features Importances')"
   ]
  },
  {
   "cell_type": "markdown",
   "metadata": {},
   "source": [
    "# Salvando o modelo"
   ]
  },
  {
   "cell_type": "code",
   "execution_count": 154,
   "metadata": {},
   "outputs": [],
   "source": [
    "from joblib import dump"
   ]
  },
  {
   "cell_type": "code",
   "execution_count": 155,
   "metadata": {},
   "outputs": [
    {
     "data": {
      "text/plain": [
       "['./model/model.joblib']"
      ]
     },
     "execution_count": 155,
     "metadata": {},
     "output_type": "execute_result"
    }
   ],
   "source": [
    "dump(rf, './model/model.joblib')"
   ]
  }
 ],
 "metadata": {
  "kernelspec": {
   "display_name": "Python 3",
   "language": "python",
   "name": "python3"
  },
  "language_info": {
   "codemirror_mode": {
    "name": "ipython",
    "version": 3
   },
   "file_extension": ".py",
   "mimetype": "text/x-python",
   "name": "python",
   "nbconvert_exporter": "python",
   "pygments_lexer": "ipython3",
   "version": "3.7.6"
  }
 },
 "nbformat": 4,
 "nbformat_minor": 4
}
